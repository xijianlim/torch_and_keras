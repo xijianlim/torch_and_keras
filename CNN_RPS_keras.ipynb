{
 "cells": [
  {
   "cell_type": "code",
   "execution_count": 134,
   "metadata": {},
   "outputs": [],
   "source": [
    "import numpy as np\n",
    "import pandas as pd\n",
    "import keras\n",
    "import matplotlib.pyplot as plt\n",
    "from keras.preprocessing.image import ImageDataGenerator\n",
    "\n",
    "from keras.models import Sequential\n",
    "from keras.layers import Conv2D, Convolution2D, MaxPooling2D, Flatten, Dense"
   ]
  },
  {
   "cell_type": "code",
   "execution_count": 159,
   "metadata": {},
   "outputs": [],
   "source": [
    "train_datagen = ImageDataGenerator(\n",
    "        rescale=1./255,\n",
    "        shear_range=0.2,\n",
    "        zoom_range=0.2,\n",
    "        horizontal_flip=False)\n",
    "\n",
    "test_datagen = ImageDataGenerator(rescale=1./255,\n",
    "        shear_range=0.2,\n",
    "        zoom_range=0.2,\n",
    "        horizontal_flip=False)"
   ]
  },
  {
   "cell_type": "code",
   "execution_count": 160,
   "metadata": {},
   "outputs": [
    {
     "name": "stdout",
     "output_type": "stream",
     "text": [
      "Found 2188 images belonging to 3 classes.\n",
      "Found 2188 images belonging to 3 classes.\n"
     ]
    }
   ],
   "source": [
    "train_generator = train_datagen.flow_from_directory(\n",
    "        'data',\n",
    "        target_size=(28, 28),\n",
    "        batch_size=32,\n",
    "        class_mode='binary')\n",
    "\n",
    "test_generator = test_datagen.flow_from_directory(\n",
    "        'data',\n",
    "        target_size=(28, 28),\n",
    "        batch_size=32,\n",
    "        class_mode='binary')"
   ]
  },
  {
   "cell_type": "code",
   "execution_count": 182,
   "metadata": {},
   "outputs": [
    {
     "data": {
      "text/plain": [
       "{'paper': 0, 'rock': 1, 'scissors': 2}"
      ]
     },
     "execution_count": 182,
     "metadata": {},
     "output_type": "execute_result"
    }
   ],
   "source": [
    "train_generator.class_indices"
   ]
  },
  {
   "cell_type": "code",
   "execution_count": 128,
   "metadata": {},
   "outputs": [
    {
     "data": {
      "text/plain": [
       "<matplotlib.image.AxesImage at 0x1444d4160>"
      ]
     },
     "execution_count": 128,
     "metadata": {},
     "output_type": "execute_result"
    },
    {
     "data": {
      "image/png": "[encoded data removed]",
      "text/plain": [
       "<Figure size 432x288 with 1 Axes>"
      ]
     },
     "metadata": {
      "needs_background": "light"
     },
     "output_type": "display_data"
    }
   ],
   "source": [
    "plt.imshow(train_generator[0][0][2])"
   ]
  },
  {
   "cell_type": "code",
   "execution_count": 133,
   "metadata": {},
   "outputs": [
    {
     "data": {
      "text/plain": [
       "(28, 28, 3)"
      ]
     },
     "execution_count": 133,
     "metadata": {},
     "output_type": "execute_result"
    }
   ],
   "source": [
    "train_generator[0][0][2].shape"
   ]
  },
  {
   "cell_type": "code",
   "execution_count": 135,
   "metadata": {},
   "outputs": [],
   "source": [
    "### calculating padding\n",
    "height=28\n",
    "width = 28\n",
    "kernel_size = 5 # we\n",
    "padding = int((kernel_size-1)/2)\n",
    "stride=1\n",
    "\n",
    "#output_after_1_convolution\n",
    "out1=(height-kernel_size+(2*padding))/1 + 1 #=28\n",
    "\n",
    "output_pool1 = out1/padding #=14\n",
    "\n",
    "\n",
    "out2=(output_pool1-kernel_size+(2*padding))/1 + 1 #= 14\n",
    "\n",
    "output_pool2 = out2/padding #=7"
   ]
  },
  {
   "cell_type": "code",
   "execution_count": 136,
   "metadata": {},
   "outputs": [
    {
     "data": {
      "text/plain": [
       "14.0"
      ]
     },
     "execution_count": 136,
     "metadata": {},
     "output_type": "execute_result"
    }
   ],
   "source": [
    "output_pool1"
   ]
  },
  {
   "cell_type": "code",
   "execution_count": 154,
   "metadata": {},
   "outputs": [],
   "source": [
    "#from https://blog.keras.io/building-powerful-image-classification-models-using-very-little-data.html\n",
    "\n",
    "from keras.models import Sequential\n",
    "from keras.layers import Conv2D, MaxPooling2D\n",
    "from keras.layers import Activation, Dropout, Flatten, Dense\n",
    "from keras.optimizers import SGD\n",
    "\n",
    "model = Sequential()\n",
    "model.add(Conv2D(16, (3, 3), input_shape=(28, 28, 3)))\n",
    "model.add(Activation('relu'))\n",
    "model.add(MaxPooling2D(pool_size=(2, 2)))\n",
    "\n",
    "model.add(Conv2D(32, (3, 3)))\n",
    "model.add(Activation('relu'))\n",
    "model.add(MaxPooling2D(pool_size=(2, 2)))\n",
    "\n",
    "model.add(Flatten())  # this converts our 3D feature maps to 1D feature vectors\n",
    "model.add(Dense(64))\n",
    "model.add(Activation('relu'))\n",
    "model.add(Dropout(0.5))\n",
    "model.add(Dense(3))\n",
    "model.add(Activation('softmax'))\n",
    "\n",
    "model.compile(loss='sparse_categorical_crossentropy',\n",
    "              optimizer=SGD(lr=0.01),\n",
    "              metrics=['accuracy'])"
   ]
  },
  {
   "cell_type": "code",
   "execution_count": 155,
   "metadata": {},
   "outputs": [
    {
     "name": "stdout",
     "output_type": "stream",
     "text": [
      "Epoch 1/20\n",
      "62/62 [==============================] - 9s 139ms/step - loss: 1.0885 - acc: 0.3926 - val_loss: 0.9101 - val_acc: 0.6050\n",
      "Epoch 2/20\n",
      "62/62 [==============================] - 8s 123ms/step - loss: 1.0595 - acc: 0.5066 - val_loss: 0.7951 - val_acc: 0.6744\n",
      "Epoch 3/20\n",
      "62/62 [==============================] - 8s 130ms/step - loss: 1.0079 - acc: 0.5917 - val_loss: 0.6285 - val_acc: 0.7575\n",
      "Epoch 4/20\n",
      "62/62 [==============================] - 9s 152ms/step - loss: 0.9392 - acc: 0.6507 - val_loss: 0.6187 - val_acc: 0.8375\n",
      "Epoch 5/20\n",
      "62/62 [==============================] - 8s 124ms/step - loss: 0.8223 - acc: 0.7255 - val_loss: 0.9222 - val_acc: 0.8359\n",
      "Epoch 6/20\n",
      "62/62 [==============================] - 8s 122ms/step - loss: 0.7155 - acc: 0.7564 - val_loss: 1.0577 - val_acc: 0.8413\n",
      "Epoch 7/20\n",
      "62/62 [==============================] - 8s 123ms/step - loss: 0.6095 - acc: 0.7997 - val_loss: 1.0160 - val_acc: 0.8833\n",
      "Epoch 8/20\n",
      "62/62 [==============================] - 8s 126ms/step - loss: 0.5702 - acc: 0.8051 - val_loss: 1.1218 - val_acc: 0.8575\n",
      "Epoch 9/20\n",
      "62/62 [==============================] - 8s 121ms/step - loss: 0.5210 - acc: 0.8176 - val_loss: 0.9010 - val_acc: 0.8975\n",
      "Epoch 10/20\n",
      "62/62 [==============================] - 8s 128ms/step - loss: 0.4776 - acc: 0.8374 - val_loss: 0.7703 - val_acc: 0.9051\n",
      "Epoch 11/20\n",
      "62/62 [==============================] - 8s 127ms/step - loss: 0.4166 - acc: 0.8588 - val_loss: 0.9371 - val_acc: 0.9050\n",
      "Epoch 12/20\n",
      "62/62 [==============================] - 8s 122ms/step - loss: 0.3896 - acc: 0.8710 - val_loss: 0.7909 - val_acc: 0.9150\n",
      "Epoch 13/20\n",
      "62/62 [==============================] - 8s 122ms/step - loss: 0.3499 - acc: 0.8896 - val_loss: 0.7013 - val_acc: 0.9282\n",
      "Epoch 14/20\n",
      "62/62 [==============================] - 8s 127ms/step - loss: 0.3578 - acc: 0.8837 - val_loss: 0.6779 - val_acc: 0.9237\n",
      "Epoch 15/20\n",
      "62/62 [==============================] - 9s 142ms/step - loss: 0.3236 - acc: 0.8915 - val_loss: 0.5863 - val_acc: 0.9275\n",
      "Epoch 16/20\n",
      "62/62 [==============================] - 10s 164ms/step - loss: 0.3008 - acc: 0.8975 - val_loss: 0.6297 - val_acc: 0.9333\n",
      "Epoch 17/20\n",
      "62/62 [==============================] - 10s 158ms/step - loss: 0.2891 - acc: 0.9041 - val_loss: 0.6211 - val_acc: 0.9413\n",
      "Epoch 18/20\n",
      "62/62 [==============================] - 9s 143ms/step - loss: 0.2740 - acc: 0.9143 - val_loss: 0.4042 - val_acc: 0.9463\n",
      "Epoch 19/20\n",
      "62/62 [==============================] - 11s 171ms/step - loss: 0.2509 - acc: 0.9096 - val_loss: 0.7404 - val_acc: 0.9218\n",
      "Epoch 20/20\n",
      "62/62 [==============================] - 12s 194ms/step - loss: 0.2595 - acc: 0.9099 - val_loss: 0.4705 - val_acc: 0.9513\n"
     ]
    }
   ],
   "source": [
    "model.fit_generator(\n",
    "        train_generator,\n",
    "        steps_per_epoch=2000// batch_size,\n",
    "        epochs=20,\n",
    "        validation_data=test_generator,\n",
    "        validation_steps=800 // batch_size)\n",
    "model.save_weights('first_try.h5')"
   ]
  },
  {
   "cell_type": "code",
   "execution_count": null,
   "metadata": {},
   "outputs": [],
   "source": []
  },
  {
   "cell_type": "markdown",
   "metadata": {},
   "source": [
    "### testing single image"
   ]
  },
  {
   "cell_type": "code",
   "execution_count": 290,
   "metadata": {},
   "outputs": [
    {
     "data": {
      "text/plain": [
       "<matplotlib.image.AxesImage at 0x14afe1400>"
      ]
     },
     "execution_count": 290,
     "metadata": {},
     "output_type": "execute_result"
    },
    {
     "data": {
      "image/png": "[encoded data removed]",
      "text/plain": [
       "<Figure size 432x288 with 1 Axes>"
      ]
     },
     "metadata": {
      "needs_background": "light"
     },
     "output_type": "display_data"
    }
   ],
   "source": [
    "test_image=test_generator[0][0][11]\n",
    "plt.imshow(test_image)"
   ]
  },
  {
   "cell_type": "code",
   "execution_count": 291,
   "metadata": {},
   "outputs": [],
   "source": [
    "\n",
    "test_image=np.expand_dims(test_image, axis=0)"
   ]
  },
  {
   "cell_type": "code",
   "execution_count": 303,
   "metadata": {},
   "outputs": [
    {
     "name": "stdout",
     "output_type": "stream",
     "text": [
      "prediction:\n",
      "2    scissors\n",
      "Name: type, dtype: object\n",
      "correct pred!\n"
     ]
    }
   ],
   "source": [
    "outputs=model.predict(test_image)\n",
    "output=outputs.argmax()\n",
    "pred_dict=pd.DataFrame.from_dict(train_generator.class_indices.items()).rename(columns={0:'type',1:'label'})\n",
    "print(\"prediction:\")\n",
    "print(pred_dict[pred_dict['label']==output]['type'])\n",
    "\n",
    "if output==int(pred_dict[pred_dict['label']==output]['label']):\n",
    "    print(\"correct pred!\")\n",
    "else:\n",
    "    print('better luck nekk time')"
   ]
  },
  {
   "cell_type": "code",
   "execution_count": null,
   "metadata": {},
   "outputs": [],
   "source": []
  }
 ],
 "metadata": {
  "kernelspec": {
   "display_name": "caradvice_ml",
   "language": "python",
   "name": "caradvice_ml"
  },
  "language_info": {
   "codemirror_mode": {
    "name": "ipython",
    "version": 3
   },
   "file_extension": ".py",
   "mimetype": "text/x-python",
   "name": "python",
   "nbconvert_exporter": "python",
   "pygments_lexer": "ipython3",
   "version": "3.7.0"
  }
 },
 "nbformat": 4,
 "nbformat_minor": 2
}
