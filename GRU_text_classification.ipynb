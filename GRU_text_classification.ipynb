{
 "cells": [
  {
   "cell_type": "code",
   "execution_count": 1,
   "metadata": {},
   "outputs": [],
   "source": [
    "#Appropriated/Inspired from https://github.com/hunkim/PyTorchZeroToAll/blob/master/13_1_rnn_classification_basics.py\n",
    "\n",
    "import pandas as pd \n",
    "import numpy as np\n",
    "import pygsheets\n",
    "import os\n",
    "import logging\n",
    "import torch\n",
    "import torch.functional as F\n",
    "import torch.nn as nn\n",
    "import torch.optim as optim\n",
    "from torch.nn.utils.rnn import pack_padded_sequence, pad_packed_sequence\n",
    "from torch.utils.data import DataLoader, Dataset\n",
    "from torch.autograd import Variable\n",
    "\n",
    "#note: training data removed due to company policy.\n"
   ]
  },
  {
   "cell_type": "code",
   "execution_count": 59,
   "metadata": {},
   "outputs": [
    {
     "data": {
      "text/html": [
       "<div>\n",
       "<style scoped>\n",
       "    .dataframe tbody tr th:only-of-type {\n",
       "        vertical-align: middle;\n",
       "    }\n",
       "\n",
       "    .dataframe tbody tr th {\n",
       "        vertical-align: top;\n",
       "    }\n",
       "\n",
       "    .dataframe thead th {\n",
       "        text-align: right;\n",
       "    }\n",
       "</style>\n",
       "<table border=\"1\" class=\"dataframe\">\n",
       "  <thead>\n",
       "    <tr style=\"text-align: right;\">\n",
       "      <th></th>\n",
       "      <th>Database</th>\n",
       "      <th>make_model</th>\n",
       "      <th>token_size</th>\n",
       "    </tr>\n",
       "  </thead>\n",
       "  <tbody>\n",
       "    <tr>\n",
       "      <th>120</th>\n",
       "      <td>bmw 2 series coupe/conv</td>\n",
       "      <td>('bmw', '2-series')</td>\n",
       "      <td>4</td>\n",
       "    </tr>\n",
       "    <tr>\n",
       "      <th>121</th>\n",
       "      <td>bmw 2-series coupe/conv</td>\n",
       "      <td>('bmw', '2-series')</td>\n",
       "      <td>3</td>\n",
       "    </tr>\n",
       "    <tr>\n",
       "      <th>122</th>\n",
       "      <td>bmw 3</td>\n",
       "      <td>('bmw', '3-series')</td>\n",
       "      <td>2</td>\n",
       "    </tr>\n",
       "    <tr>\n",
       "      <th>123</th>\n",
       "      <td>bmw 3 series</td>\n",
       "      <td>('bmw', '3-series')</td>\n",
       "      <td>3</td>\n",
       "    </tr>\n",
       "    <tr>\n",
       "      <th>124</th>\n",
       "      <td>bmw 3 series coupe/conv</td>\n",
       "      <td>('bmw', '3-series')</td>\n",
       "      <td>4</td>\n",
       "    </tr>\n",
       "    <tr>\n",
       "      <th>125</th>\n",
       "      <td>bmw 3 series gran turismo</td>\n",
       "      <td>('bmw', '3-series')</td>\n",
       "      <td>5</td>\n",
       "    </tr>\n",
       "    <tr>\n",
       "      <th>126</th>\n",
       "      <td>bmw 330 gt</td>\n",
       "      <td>('bmw', '3-series')</td>\n",
       "      <td>3</td>\n",
       "    </tr>\n",
       "    <tr>\n",
       "      <th>127</th>\n",
       "      <td>bmw 4</td>\n",
       "      <td>('bmw', '4-series')</td>\n",
       "      <td>2</td>\n",
       "    </tr>\n",
       "    <tr>\n",
       "      <th>128</th>\n",
       "      <td>bmw 4 series coupe/conv</td>\n",
       "      <td>('bmw', '4-series')</td>\n",
       "      <td>4</td>\n",
       "    </tr>\n",
       "    <tr>\n",
       "      <th>129</th>\n",
       "      <td>bmw 4 series gran coupe</td>\n",
       "      <td>('bmw', '4-series')</td>\n",
       "      <td>5</td>\n",
       "    </tr>\n",
       "  </tbody>\n",
       "</table>\n",
       "</div>"
      ],
      "text/plain": [
       "                      Database           make_model  token_size\n",
       "120    bmw 2 series coupe/conv  ('bmw', '2-series')           4\n",
       "121    bmw 2-series coupe/conv  ('bmw', '2-series')           3\n",
       "122                      bmw 3  ('bmw', '3-series')           2\n",
       "123               bmw 3 series  ('bmw', '3-series')           3\n",
       "124    bmw 3 series coupe/conv  ('bmw', '3-series')           4\n",
       "125  bmw 3 series gran turismo  ('bmw', '3-series')           5\n",
       "126                 bmw 330 gt  ('bmw', '3-series')           3\n",
       "127                      bmw 4  ('bmw', '4-series')           2\n",
       "128    bmw 4 series coupe/conv  ('bmw', '4-series')           4\n",
       "129    bmw 4 series gran coupe  ('bmw', '4-series')           5"
      ]
     },
     "execution_count": 59,
     "metadata": {},
     "output_type": "execute_result"
    }
   ],
   "source": [
    "df_train.iloc[120:130]"
   ]
  },
  {
   "cell_type": "code",
   "execution_count": 4,
   "metadata": {},
   "outputs": [],
   "source": [
    "### Creating your own torch dataset\n",
    "#https://github.com/hunkim/PyTorchZeroToAll/blob/master/13_2_rnn_classification.py\n",
    "##https://blog.godatadriven.com/fairness-in-pytorch\n",
    "\n",
    "class NameDataset(Dataset):\n",
    "\n",
    "\n",
    "    # Initialize your data, download, etc.\n",
    "    def __init__(self,df, is_train_set=False):\n",
    "        \n",
    "\n",
    "        self.text_input = list(df['Database'])\n",
    "        self.make_model = list(df['make_model'])\n",
    "        self.len = len(self.make_model)\n",
    "\n",
    "        self.make_model_list = list(sorted(set(self.make_model)))\n",
    "\n",
    "    def __getitem__(self, index):\n",
    "        return self.text_input[index], self.make_model[index]\n",
    "\n",
    "    def __len__(self):\n",
    "        return self.len\n",
    "\n",
    "    def get_make_models(self):\n",
    "        return self.make_model_list\n",
    "\n",
    "    def get_make_model(self, id):\n",
    "        return self.make_model_list[id]\n",
    "\n",
    "    def get_make_model_id(self, make_model):\n",
    "        return self.make_model_list.index(make_model)"
   ]
  },
  {
   "cell_type": "code",
   "execution_count": 5,
   "metadata": {},
   "outputs": [],
   "source": [
    "BATCH_SIZE=256\n",
    "\n",
    "# Using PyTorch's DataLoader\n",
    "train_dataset = NameDataset(df_train,is_train_set=True)\n",
    "train_loader = DataLoader(dataset=train_dataset,\n",
    "                          batch_size=BATCH_SIZE, shuffle=True)\n",
    "\n",
    "test_dataset = NameDataset(df_train,is_train_set=False)\n",
    "test_loader = DataLoader(dataset=test_dataset,\n",
    "                         batch_size=BATCH_SIZE, shuffle=True)\n",
    "\n",
    "data=NameDataset(df_train)"
   ]
  },
  {
   "cell_type": "code",
   "execution_count": 7,
   "metadata": {},
   "outputs": [
    {
     "data": {
      "text/plain": [
       "[\"('', '')\", \"('acura', 'cdx')\", \"('acura', 'mdx')\", \"('acura', 'rdx')\"]"
      ]
     },
     "execution_count": 7,
     "metadata": {},
     "output_type": "execute_result"
    }
   ],
   "source": [
    "train_loader.dataset.make_model_list[:4]"
   ]
  },
  {
   "cell_type": "code",
   "execution_count": 8,
   "metadata": {},
   "outputs": [
    {
     "data": {
      "text/plain": [
       "\"('acura', 'rdx')\""
      ]
     },
     "execution_count": 8,
     "metadata": {},
     "output_type": "execute_result"
    }
   ],
   "source": [
    "train_loader.dataset.get_make_model(3)"
   ]
  },
  {
   "cell_type": "code",
   "execution_count": 9,
   "metadata": {},
   "outputs": [],
   "source": [
    "### converting characters to numercals\n",
    "\n",
    "def str2ascii_arr(msg):\n",
    "    arr = [ord(c) for c in msg]\n",
    "    return arr, len(arr)\n"
   ]
  },
  {
   "cell_type": "code",
   "execution_count": 10,
   "metadata": {},
   "outputs": [
    {
     "name": "stdout",
     "output_type": "stream",
     "text": [
      "([118, 111, 108, 107, 115, 119, 97, 103, 101, 110, 32, 97, 109, 97, 114, 111, 107], 17)\n"
     ]
    }
   ],
   "source": [
    "print(str2ascii_arr(u'volkswagen amarok'))"
   ]
  },
  {
   "cell_type": "code",
   "execution_count": 11,
   "metadata": {},
   "outputs": [],
   "source": [
    "### Getting the Make Model index IDs when search on make models\n",
    "\n",
    "def models2tensor(models,dataset):\n",
    "    model_ids = [dataset.get_make_model_id(\n",
    "        model) for model in models]\n",
    "    return torch.LongTensor(model_ids)"
   ]
  },
  {
   "cell_type": "code",
   "execution_count": 12,
   "metadata": {},
   "outputs": [
    {
     "name": "stdout",
     "output_type": "stream",
     "text": [
      "Sample of the Models in the train dataset: [\"('', '')\", \"('acura', 'cdx')\", \"('acura', 'mdx')\", \"('acura', 'rdx')\", \"('acura', 'tlx')\"]\n",
      "tensor([0, 1, 2, 3, 4])\n"
     ]
    }
   ],
   "source": [
    "model_sample=data.make_model_list[:5]\n",
    "model_ids=models2tensor(model_sample,train_dataset)\n",
    "print(\"Sample of the Models in the train dataset: {a}\".format(a=model_sample))\n",
    "print(model_ids)"
   ]
  },
  {
   "cell_type": "code",
   "execution_count": 13,
   "metadata": {},
   "outputs": [],
   "source": [
    "###Padding and making variables\n",
    "\n",
    "def create_variable(tensor):\n",
    "    # Do cuda() before wrapping with variable\n",
    "    if torch.cuda.is_available():\n",
    "        return Variable(tensor.cuda())\n",
    "    else:\n",
    "        return Variable(tensor)\n",
    "\n",
    "\n",
    "def pad_sequences(vectorized_seqs, seq_lengths, models):\n",
    "    seq_tensor = torch.zeros((len(vectorized_seqs), seq_lengths.max())).long()\n",
    "    for idx, (seq, seq_len) in enumerate(zip(vectorized_seqs, seq_lengths)):\n",
    "        seq_tensor[idx, :seq_len] = torch.LongTensor(seq)\n",
    "\n",
    "    # Sort tensors by their length\n",
    "    seq_lengths, perm_idx = seq_lengths.sort(0, descending=True)\n",
    "    seq_tensor = seq_tensor[perm_idx]\n",
    "\n",
    "    # Also sort the target (countries) in the same order\n",
    "    target = models2tensor(models, train_dataset)\n",
    "    if len(models):\n",
    "        target = target[perm_idx]\n",
    "\n",
    "    # Return variables\n",
    "    # DataParallel requires everything to be a Variable\n",
    "    return create_variable(seq_tensor), \\\n",
    "        create_variable(seq_lengths), \\\n",
    "        create_variable(target)\n",
    "\n",
    "def make_variables(names, countries):\n",
    "    sequence_and_length = [str2ascii_arr(name) for name in names]\n",
    "    vectorized_seqs = [sl[0] for sl in sequence_and_length]\n",
    "    seq_lengths = torch.LongTensor([sl[1] for sl in sequence_and_length])\n",
    "    return pad_sequences(vectorized_seqs, seq_lengths, countries)\n",
    "\n"
   ]
  },
  {
   "cell_type": "code",
   "execution_count": 14,
   "metadata": {},
   "outputs": [],
   "source": [
    "for i, (text, models) in enumerate(train_loader, 1):\n",
    "        input, seq_lengths, target= make_variables(text, models)\n",
    "        "
   ]
  },
  {
   "cell_type": "code",
   "execution_count": 45,
   "metadata": {},
   "outputs": [
    {
     "name": "stdout",
     "output_type": "stream",
     "text": [
      "1\n",
      "256\n",
      "text_input:  ('ferrari fxx-k',)\n",
      "make and model  ('ferrari', 'fxx-k')\n",
      "tensored example [102, 101, 114, 114, 97, 114, 105, 32, 102, 120, 120, 45, 107]\n",
      "\n",
      "example of padded input:  tensor([100, 115,   0,   0,   0,   0,   0,   0,   0,   0,   0,   0,   0,   0,\n",
      "          0,   0,   0,   0,   0,   0,   0,   0,   0,   0,   0,   0,   0,   0,\n",
      "          0])\n",
      "tensor([[102, 101, 114, 114,  97, 114, 105,  32, 102, 120, 120,  45, 107]]) tensor([13])\n"
     ]
    }
   ],
   "source": [
    "### This is an example \n",
    "\n",
    "for i, (text, models) in enumerate(test_loader, 1):\n",
    "    if i ==1:\n",
    "        print(i)\n",
    "        text_x=text[0], \n",
    "        model_x=models[0]\n",
    "        print(len(models))\n",
    "        print('text_input: ',text_x)\n",
    "        print('make and model ', model_x)\n",
    "        print('tensored example',str2ascii_arr(text[0])[0])\n",
    "        print('')\n",
    "        print('example of padded input: ',input[-1])\n",
    "        input_x, seq_lengths_x, target_x = make_variables([(text_x)[0]], [])\n",
    "        print(input_x, seq_lengths_x)\n",
    "        \n",
    "        "
   ]
  },
  {
   "cell_type": "code",
   "execution_count": 46,
   "metadata": {},
   "outputs": [
    {
     "name": "stdout",
     "output_type": "stream",
     "text": [
      "1\n",
      "bugatti veyron\n",
      "('bugatti', 'veyron')\n",
      "tensored example [98, 117, 103, 97, 116, 116, 105, 32, 118, 101, 121, 114, 111, 110]\n",
      "tensor([[ 98, 117, 103,  97, 116, 116, 105,  32, 118, 101, 121, 114, 111, 110]]) tensor([121])\n"
     ]
    }
   ],
   "source": [
    "for i, (text, models) in enumerate(train_loader, 1):\n",
    "    if i ==1:\n",
    "        print(i)\n",
    "        print(text[0])\n",
    "        print(models[0])\n",
    "        print('tensored example',str2ascii_arr(text[0])[0])\n",
    "        input_x, seq_lengths_x, target_x = make_variables([(text)[0]], (models))\n",
    "        print(input_x, target_x)"
   ]
  },
  {
   "cell_type": "code",
   "execution_count": 47,
   "metadata": {},
   "outputs": [],
   "source": [
    "class RNNClassifier(nn.Module):\n",
    "    # Our model\n",
    "\n",
    "    def __init__(self, input_size, hidden_size, output_size, n_layers=1, bidirectional=True):\n",
    "        super(RNNClassifier, self).__init__()\n",
    "        self.hidden_size = hidden_size\n",
    "        self.n_layers = n_layers\n",
    "        self.n_directions = int(bidirectional) + 1\n",
    "\n",
    "        self.embedding = nn.Embedding(input_size, hidden_size)\n",
    "        self.gru = nn.GRU(hidden_size, hidden_size, n_layers,\n",
    "                          bidirectional=bidirectional)\n",
    "        self.fc = nn.Linear(hidden_size, output_size)\n",
    "\n",
    "    def forward(self, input, seq_lengths):\n",
    "        # Note: we run this all at once (over the whole input sequence)\n",
    "        # input shape: B x S (input size)\n",
    "        # transpose to make S(sequence) x B (batch)\n",
    "        input = input.t()\n",
    "        batch_size = input.size(1)\n",
    "\n",
    "        # Make a hidden\n",
    "        hidden = self._init_hidden(batch_size)\n",
    "\n",
    "        # Embedding S x B -> S x B x I (embedding size)\n",
    "        embedded = self.embedding(input)\n",
    "\n",
    "        # Pack them up nicely\n",
    "        gru_input = pack_padded_sequence(\n",
    "            embedded, seq_lengths.data.cpu().numpy())\n",
    "        \n",
    "        ''' pack_padded_sequence package\n",
    "        They are used for seq to seq models with variable lengths. \n",
    "        Such as a sentence can be of variable length, \n",
    "        and to feed it into any class of an RNN, you need to be able to get the output at the \n",
    "        right time step.\n",
    "        '''\n",
    "        # To compact weights again call flatten_parameters().\n",
    "        self.gru.flatten_parameters()\n",
    "        output, hidden = self.gru(gru_input, hidden)\n",
    "\n",
    "        # Use the last layer output as FC's input\n",
    "        # No need to unpack, since we are going to use hidden\n",
    "        fc_output = self.fc(hidden[-1])\n",
    "        return fc_output\n",
    "\n",
    "    def _init_hidden(self, batch_size):\n",
    "        hidden = torch.zeros(self.n_layers * self.n_directions,\n",
    "                             batch_size, self.hidden_size)\n",
    "        \n",
    "        ## note: the initial hidden size is determined by the batch og the data and the \n",
    "        ## architechture of the model\n",
    "        return hidden\n",
    "\n",
    "\n"
   ]
  },
  {
   "cell_type": "code",
   "execution_count": 64,
   "metadata": {},
   "outputs": [],
   "source": [
    "import matplotlib.pyplot as plt\n",
    "import time\n",
    "import math\n",
    "\n",
    "\n",
    "def time_since(since):\n",
    "    now = time.time()\n",
    "    s = now - since\n",
    "    m = math.floor(s / 60)\n",
    "    s -= m * 60\n",
    "    return '%dm %ds' % (m, s)\n",
    "\n",
    "start = time.time()\n",
    "\n",
    "HIDDEN_SIZE=256\n",
    "N_LAYERS=3\n",
    "N_MODELS=len(data.make_model_list)\n",
    "N_CHARS = 128  # ASCII\n",
    "\n",
    "\n",
    "num_epochs=40\n",
    "total_loss = 0\n",
    "iter = 0\n",
    "learning_rate=1e-3\n",
    "\n",
    "model = RNNClassifier(N_CHARS, HIDDEN_SIZE, N_MODELS, N_LAYERS)\n",
    "optimizer = torch.optim.Adam(model.parameters(), lr=learning_rate)  \n",
    "criterion = nn.CrossEntropyLoss()\n"
   ]
  },
  {
   "cell_type": "code",
   "execution_count": 65,
   "metadata": {},
   "outputs": [
    {
     "name": "stdout",
     "output_type": "stream",
     "text": [
      "[1m 37s] Train Epoch: 7 [256/1645 (16%)] loss:3.38, total_loss: 0.97 iter:50\n",
      "\n",
      "Test set: Accuracy: 498/1645 (30%)\n",
      "\n",
      "[3m 18s] Train Epoch: 14 [256/1645 (16%)] loss:1.81, total_loss: 1.46 iter:100\n",
      "\n",
      "Test set: Accuracy: 1057/1645 (64%)\n",
      "\n",
      "[5m 3s] Train Epoch: 21 [256/1645 (16%)] loss:0.86, total_loss: 1.70 iter:150\n",
      "\n",
      "Test set: Accuracy: 1459/1645 (88%)\n",
      "\n",
      "[6m 47s] Train Epoch: 28 [256/1645 (16%)] loss:0.46, total_loss: 1.82 iter:200\n",
      "\n",
      "Test set: Accuracy: 1601/1645 (97%)\n",
      "\n",
      "[8m 34s] Train Epoch: 35 [256/1645 (16%)] loss:0.22, total_loss: 1.88 iter:250\n",
      "\n",
      "Test set: Accuracy: 1632/1645 (99%)\n",
      "\n"
     ]
    },
    {
     "data": {
      "image/png": "[encoded data removed]",
      "text/plain": [
       "<Figure size 432x288 with 1 Axes>"
      ]
     },
     "metadata": {},
     "output_type": "display_data"
    }
   ],
   "source": [
    "iter_n=[]\n",
    "loss_n=[]\n",
    "for epoch in range(num_epochs):\n",
    "    for i, (names, countries) in enumerate(train_loader):\n",
    "        input, seq_lengths, target = make_variables(names, countries)\n",
    "        # Clear gradients w.r.t. parameters\n",
    "        optimizer.zero_grad()\n",
    "        \n",
    "        #make the class\n",
    "        output = model(input, seq_lengths)\n",
    "        \n",
    "        #calculate loss\n",
    "        loss = criterion(output, target)\n",
    "        total_loss += loss.item()\n",
    "\n",
    "        \n",
    "        # Getting gradients w.r.t. parameters\n",
    "        loss.backward()\n",
    "        \n",
    "        # Updating parameters\n",
    "        optimizer.step()\n",
    "        \n",
    "        \n",
    "        \n",
    "        iter += 1\n",
    "        \n",
    "        if iter % 50 == 0:\n",
    "            print('[{}] Train Epoch: {} [{}/{} ({:.0f}%)] loss:{:.2f}, total_loss: {:.2f} iter:{}'.format(\n",
    "                time_since(start), \n",
    "                epoch,  \n",
    "                len(names), \n",
    "                len(train_loader.dataset),\n",
    "                (len(names) / len(train_loader.dataset))*100,\n",
    "                loss,\n",
    "                total_loss / len(names), \n",
    "                iter)\n",
    "                 )\n",
    "            \n",
    "            correct = 0\n",
    "            total = 0\n",
    "            \n",
    "            iter_n.append(iter)\n",
    "            loss_n.append(loss)\n",
    "            \n",
    "            for i, (names, countries) in enumerate(test_loader):\n",
    "                input, seq_lengths, target = make_variables(names, countries)\n",
    "                output = model(input, seq_lengths)\n",
    "                pred = output.data.max(1, keepdim=True)[1]\n",
    "                correct += pred.eq(target.data.view_as(pred)).cpu().sum()\n",
    "                total += len(countries)\n",
    "            \n",
    "            print('\\nTest set: Accuracy: {}/{} ({:.0f}%)\\n'.format(\n",
    "            correct, total, 100. * correct / total))\n",
    "            \n",
    "            \n",
    "            #loss_n.append(total_loss)\n",
    "            i#ter_n.append(iter)\n",
    "            \n",
    "            \n",
    "import matplotlib.pyplot as plt\n",
    "plt.title('Training Loss')\n",
    "plt.plot(iter_n,loss_n, '-')\n",
    "plt.show()"
   ]
  },
  {
   "cell_type": "code",
   "execution_count": 63,
   "metadata": {},
   "outputs": [
    {
     "name": "stdout",
     "output_type": "stream",
     "text": [
      "volks tigy is ('volkswagen', 'tiguan') input:  tensor([[118, 111, 108, 107, 115,  32, 116, 105, 103, 121]])\n",
      "mercedes benz c240 is ('mercedes-benz', 'c-class') input:  tensor([[109, 101, 114,  99, 101, 100, 101, 115,  32,  98, 101, 110, 122,  32,\n",
      "          99,  50,  52,  48]])\n",
      "merc glc is ('mercedes-benz', 'glc-class') input:  tensor([[109, 101, 114,  99,  32, 103, 108,  99]])\n",
      "citron ds3 is ('citroen', 'ds4') input:  tensor([[ 99, 105, 116, 114, 111, 110,  32, 100, 115,  51]])\n",
      "lexus rx300 is ('lexus', 'rx') input:  tensor([[108, 101, 120, 117, 115,  32, 114, 120,  51,  48,  48]])\n",
      "mitubishi mirage is ('mitsubishi', 'mirage') input:  tensor([[109, 105, 116, 117,  98, 105, 115, 104, 105,  32, 109, 105, 114,  97,\n",
      "         103, 101]])\n",
      "mg 3 is ('mg', 3) input:  tensor([[109, 103,  32,  51]])\n",
      "saab 93 is ('saab', '9-3') input:  tensor([[115,  97,  97,  98,  32,  57,  51]])\n",
      "bmw x3 is ('bmw', 'x3') input:  tensor([[ 98, 109, 119,  32, 120,  51]])\n",
      "land rover range velar is ('land rover', 'range rover velar') input:  tensor([[108,  97, 110, 100,  32, 114, 111, 118, 101, 114,  32, 114,  97, 110,\n",
      "         103, 101,  32, 118, 101, 108,  97, 114]])\n",
      "merc c300 is ('mercedes-benz', 'c-class') input:  tensor([[109, 101, 114,  99,  32,  99,  51,  48,  48]])\n",
      "merkedez s-ceras is ('mercedes-benz', 'r-class') input:  tensor([[109, 101, 114, 107, 101, 100, 101, 122,  32, 115,  45,  99, 101, 114,\n",
      "          97, 115]])\n",
      "miny cooper is ('mini', 'cooper') input:  tensor([[109, 105, 110, 121,  32,  99, 111, 111, 112, 101, 114]])\n"
     ]
    }
   ],
   "source": [
    "def test(name=None):\n",
    "    # Predict for a given name\n",
    "    if name:\n",
    "        input, seq_lengths, target = make_variables([name], [])\n",
    "        output = model(input, seq_lengths)\n",
    "        pred = output.data.max(1, keepdim=True)[1]\n",
    "        model_id = pred.cpu().numpy()[0][0]\n",
    "        print(\"input: \", name, \" --- predicted \", train_dataset.get_make_model(model_id)\n",
    "        return\n",
    "    \n",
    "test('volks tigy')\n",
    "test('mercedes benz c240')\n",
    "test('merc glc')\n",
    "test('citron ds3')\n",
    "test('lexus rx300')\n",
    "test('mitubishi mirage')\n",
    "test('mg 3')\n",
    "test('saab 93')\n",
    "test('bmw x3')\n",
    "test('land rover range velar')\n",
    "test('merc c300')\n",
    "test('merkedez s-ceras')\n",
    "test('miny cooper')\n",
    "\n"
   ]
  },
  {
   "cell_type": "code",
   "execution_count": 20,
   "metadata": {},
   "outputs": [],
   "source": [
    "## saving model and dataset\n",
    "\n",
    "save_model = False\n",
    "if save_model is True:\n",
    "    # Saves only parameters\n",
    "    # alpha & beta\n",
    "    torch.save(model.state_dict(), \"translation_model.pth\")\n",
    "# torch.save(model.state_dict(), \"translation_model.pth\")\n"
   ]
  },
  {
   "cell_type": "code",
   "execution_count": 21,
   "metadata": {},
   "outputs": [],
   "source": [
    "torch.save(model.state_dict(), \"translation_model.pth\")"
   ]
  },
  {
   "cell_type": "code",
   "execution_count": 22,
   "metadata": {},
   "outputs": [],
   "source": [
    "import pickle \n",
    "\n",
    "with open('make_model_vocab.pkl', 'wb') as output:\n",
    "    pickle.dump(train_dataset, output, pickle.HIGHEST_PROTOCOL)\n",
    "    \n",
    "with open('trained_model.pkl', 'wb') as output:\n",
    "    pickle.dump(RNNClassifier, output, pickle.HIGHEST_PROTOCOL)"
   ]
  },
  {
   "cell_type": "code",
   "execution_count": 23,
   "metadata": {},
   "outputs": [
    {
     "data": {
      "text/plain": [
       "913"
      ]
     },
     "execution_count": 23,
     "metadata": {},
     "output_type": "execute_result"
    }
   ],
   "source": [
    "N_MODELS"
   ]
  },
  {
   "cell_type": "code",
   "execution_count": null,
   "metadata": {},
   "outputs": [],
   "source": []
  },
  {
   "cell_type": "code",
   "execution_count": null,
   "metadata": {},
   "outputs": [],
   "source": []
  }
 ],
 "metadata": {
  "kernelspec": {
   "display_name": "Python 3",
   "language": "python",
   "name": "python3"
  },
  "language_info": {
   "codemirror_mode": {
    "name": "ipython",
    "version": 3
   },
   "file_extension": ".py",
   "mimetype": "text/x-python",
   "name": "python",
   "nbconvert_exporter": "python",
   "pygments_lexer": "ipython3",
   "version": "3.7.0"
  }
 },
 "nbformat": 4,
 "nbformat_minor": 2
}
